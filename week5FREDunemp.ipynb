{
  "nbformat": 4,
  "nbformat_minor": 0,
  "metadata": {
    "colab": {
      "name": "week5FREDunemp.ipynb",
      "provenance": [],
      "authorship_tag": "ABX9TyOiEAm1TfjCgOBKd0omH4ua",
      "include_colab_link": true
    },
    "kernelspec": {
      "name": "python3",
      "display_name": "Python 3"
    },
    "language_info": {
      "name": "python"
    }
  },
  "cells": [
    {
      "cell_type": "markdown",
      "metadata": {
        "id": "view-in-github",
        "colab_type": "text"
      },
      "source": [
        "<a href=\"https://colab.research.google.com/github/Tomi-Okusanya/Tomi-Okusanya.github.io/blob/main/week5FREDunemp.ipynb\" target=\"_parent\"><img src=\"https://colab.research.google.com/assets/colab-badge.svg\" alt=\"Open In Colab\"/></a>"
      ]
    },
    {
      "cell_type": "code",
      "execution_count": null,
      "metadata": {
        "id": "PsGB-n7BCXXr"
      },
      "outputs": [],
      "source": [
        "import requests"
      ]
    },
    {
      "cell_type": "code",
      "source": [
        "fredseries=[\"UNRATE\", \"PCPEI\", \"PAYEMS\"]"
      ],
      "metadata": {
        "id": "7qahHP5NHru_"
      },
      "execution_count": null,
      "outputs": []
    },
    {
      "cell_type": "code",
      "source": [
        "data=[]\n",
        "for i in fredseries:\n",
        "  url='https://api.stlouisfed.org/fred/series/observations?series_id={}&api_key=275c096d5d9da9db35d55b8b0834337d&file_type=json'\n",
        "  file_base = 'undata_FRED-{},json'\n",
        "  for i in fredseries:\n",
        "    print(i)\n",
        "    URL = url_base.format(i)\n",
        "    print (URL)\n",
        "    data = requests.get(URL).json\n",
        "    fileName=file_base.format(i)\n",
        "    print(fileName)\n",
        "    with open(fileName, 'w', encoding='utf-8') as f:\n",
        "      json.dump(data, f, ensure_ascii=False, indent=4)\n",
        "      files.download(fileName)\n"
      ],
      "metadata": {
        "id": "AOaLZJIEILxz"
      },
      "execution_count": null,
      "outputs": []
    }
  ]
}